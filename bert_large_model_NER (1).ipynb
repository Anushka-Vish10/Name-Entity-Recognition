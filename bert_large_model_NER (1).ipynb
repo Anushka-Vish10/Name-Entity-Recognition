{
  "nbformat": 4,
  "nbformat_minor": 0,
  "metadata": {
    "colab": {
      "name": "bert-large-model-NER.ipynb",
      "provenance": []
    },
    "kernelspec": {
      "name": "python3",
      "display_name": "Python 3"
    },
    "language_info": {
      "name": "python"
    }
  },
  "cells": [
    {
      "cell_type": "markdown",
      "source": [
        "**Installing Required Packages**"
      ],
      "metadata": {
        "id": "oSm0pWEJzXQH"
      }
    },
    {
      "cell_type": "code",
      "execution_count": null,
      "metadata": {
        "colab": {
          "base_uri": "https://localhost:8080/"
        },
        "id": "c7gVxYYAKRz-",
        "outputId": "e3c8b6fc-7dfc-4083-aca6-892ddda5bfed"
      },
      "outputs": [
        {
          "output_type": "stream",
          "name": "stdout",
          "text": [
            "Requirement already satisfied: transformers in /usr/local/lib/python3.7/dist-packages (4.15.0)\n",
            "Requirement already satisfied: pyyaml>=5.1 in /usr/local/lib/python3.7/dist-packages (from transformers) (6.0)\n",
            "Requirement already satisfied: huggingface-hub<1.0,>=0.1.0 in /usr/local/lib/python3.7/dist-packages (from transformers) (0.2.1)\n",
            "Requirement already satisfied: sacremoses in /usr/local/lib/python3.7/dist-packages (from transformers) (0.0.46)\n",
            "Requirement already satisfied: tokenizers<0.11,>=0.10.1 in /usr/local/lib/python3.7/dist-packages (from transformers) (0.10.3)\n",
            "Requirement already satisfied: filelock in /usr/local/lib/python3.7/dist-packages (from transformers) (3.4.0)\n",
            "Requirement already satisfied: tqdm>=4.27 in /usr/local/lib/python3.7/dist-packages (from transformers) (4.62.3)\n",
            "Requirement already satisfied: packaging>=20.0 in /usr/local/lib/python3.7/dist-packages (from transformers) (21.3)\n",
            "Requirement already satisfied: importlib-metadata in /usr/local/lib/python3.7/dist-packages (from transformers) (4.8.2)\n",
            "Requirement already satisfied: regex!=2019.12.17 in /usr/local/lib/python3.7/dist-packages (from transformers) (2019.12.20)\n",
            "Requirement already satisfied: requests in /usr/local/lib/python3.7/dist-packages (from transformers) (2.23.0)\n",
            "Requirement already satisfied: numpy>=1.17 in /usr/local/lib/python3.7/dist-packages (from transformers) (1.19.5)\n",
            "Requirement already satisfied: typing-extensions>=3.7.4.3 in /usr/local/lib/python3.7/dist-packages (from huggingface-hub<1.0,>=0.1.0->transformers) (3.10.0.2)\n",
            "Requirement already satisfied: pyparsing!=3.0.5,>=2.0.2 in /usr/local/lib/python3.7/dist-packages (from packaging>=20.0->transformers) (3.0.6)\n",
            "Requirement already satisfied: zipp>=0.5 in /usr/local/lib/python3.7/dist-packages (from importlib-metadata->transformers) (3.6.0)\n",
            "Requirement already satisfied: chardet<4,>=3.0.2 in /usr/local/lib/python3.7/dist-packages (from requests->transformers) (3.0.4)\n",
            "Requirement already satisfied: idna<3,>=2.5 in /usr/local/lib/python3.7/dist-packages (from requests->transformers) (2.10)\n",
            "Requirement already satisfied: certifi>=2017.4.17 in /usr/local/lib/python3.7/dist-packages (from requests->transformers) (2021.10.8)\n",
            "Requirement already satisfied: urllib3!=1.25.0,!=1.25.1,<1.26,>=1.21.1 in /usr/local/lib/python3.7/dist-packages (from requests->transformers) (1.24.3)\n",
            "Requirement already satisfied: joblib in /usr/local/lib/python3.7/dist-packages (from sacremoses->transformers) (1.1.0)\n",
            "Requirement already satisfied: click in /usr/local/lib/python3.7/dist-packages (from sacremoses->transformers) (7.1.2)\n",
            "Requirement already satisfied: six in /usr/local/lib/python3.7/dist-packages (from sacremoses->transformers) (1.15.0)\n"
          ]
        }
      ],
      "source": [
        "!pip install transformers"
      ]
    },
    {
      "cell_type": "markdown",
      "source": [
        "**Imorting Required Libraries**"
      ],
      "metadata": {
        "id": "JAcfohT4zytf"
      }
    },
    {
      "cell_type": "code",
      "source": [
        "\n",
        "from transformers import AutoTokenizer, AutoModelForTokenClassification\n",
        "from transformers import pipeline"
      ],
      "metadata": {
        "id": "o6xKBUixKinN"
      },
      "execution_count": null,
      "outputs": []
    },
    {
      "cell_type": "markdown",
      "source": [
        "**Bert-large Model For NER**\n",
        "\n",
        "\n",
        "model =\"dslim/bert-large-NER\"\n",
        "\n"
      ],
      "metadata": {
        "id": "YZsQhouJz_LE"
      }
    },
    {
      "cell_type": "code",
      "source": [
        "def ner_model(model):\n",
        "  '''\n",
        "  Input: bert-model\n",
        "  Output: Transformer pipeline \n",
        "  '''\n",
        "  tokenizer = AutoTokenizer.from_pretrained(model)\n",
        "  model = AutoModelForTokenClassification.from_pretrained(model)\n",
        "  nlp = pipeline(\"ner\", model=model, tokenizer=tokenizer)\n",
        "  return nlp\n"
      ],
      "metadata": {
        "id": "oktcA-VtKlaN"
      },
      "execution_count": null,
      "outputs": []
    },
    {
      "cell_type": "code",
      "source": [
        "def get_ner(text, ent_list,nlp):\n",
        "\n",
        "  ''' \n",
        "  Input: text i.e. text data\n",
        "         ent_list i.e list of entity \n",
        "         nlp i.e the nlp pipeline\n",
        "  Output: Required list tuple of entity and entity name\n",
        "  '''\n",
        "\n",
        "  # Store the Entity and Entity name\n",
        "  required_ents = []\n",
        "  example = text\n",
        "  ner_results = nlp(example)\n",
        "  for ent in ner_results:\n",
        "    if ent['entity'] in ent_list:\n",
        "      required_ents.append((ent['entity'],ent['word']))\n",
        "\n",
        "  return required_ents"
      ],
      "metadata": {
        "id": "FaVrCZW7KtWp"
      },
      "execution_count": null,
      "outputs": []
    },
    {
      "cell_type": "code",
      "source": [
        "def main_fun(text,ent_list,model):\n",
        "  '''\n",
        "  Input: text, list of entity, bert model \n",
        "  Output: List of tuple having Entity and Entity name\n",
        "  '''\n",
        "  nlp = ner_model(model)\n",
        "  result = get_ner(text, ent_list,nlp)\n",
        "  return result"
      ],
      "metadata": {
        "id": "ZMvD5WZ-KujQ"
      },
      "execution_count": null,
      "outputs": []
    },
    {
      "cell_type": "code",
      "source": [
        "text = '''Thomas MJ is a Psychiatrist in Jayanagar, Bangalore and has an experience of 44 years in this field. Dr. Thomas MJ practices at Sagar Hospitals in Jayanagar, Bangalore. He completed MBBS from St John's Medical College, Bangalore in 1974,M.D. (Psychiatry) from National Institute of Mental Health and Neurosciences (NIMHANS) in 1976 and DPM (Psychiatry) from National Institute of Mental Health and Neurosciences (NIMHANS) in 1979.'''\n",
        "ent_list = ['B-PER','I-PER']\n",
        "model =\"dslim/bert-large-NER\"\n",
        "print(main_fun(text,ent_list, model))"
      ],
      "metadata": {
        "colab": {
          "base_uri": "https://localhost:8080/"
        },
        "id": "ztBdo81jK11H",
        "outputId": "a8f42705-fd52-405b-d0af-7650055ea374"
      },
      "execution_count": null,
      "outputs": [
        {
          "output_type": "stream",
          "name": "stdout",
          "text": [
            "[('B-PER', 'Thomas'), ('I-PER', 'M'), ('I-PER', '##J'), ('B-PER', 'Thomas'), ('I-PER', 'M')]\n"
          ]
        }
      ]
    },
    {
      "cell_type": "code",
      "source": [
        ""
      ],
      "metadata": {
        "id": "_u-6xc_3PV-b"
      },
      "execution_count": null,
      "outputs": []
    }
  ]
}