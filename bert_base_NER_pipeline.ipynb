{
  "nbformat": 4,
  "nbformat_minor": 0,
  "metadata": {
    "colab": {
      "name": "bert-base-NER-pipeline.ipynb",
      "provenance": [],
      "collapsed_sections": []
    },
    "kernelspec": {
      "name": "python3",
      "display_name": "Python 3"
    },
    "language_info": {
      "name": "python"
    }
  },
  "cells": [
    {
      "cell_type": "markdown",
      "source": [
        "**Installing Required Packages**"
      ],
      "metadata": {
        "id": "LWE4wSysq5sx"
      }
    },
    {
      "cell_type": "code",
      "execution_count": null,
      "metadata": {
        "colab": {
          "base_uri": "https://localhost:8080/"
        },
        "id": "ikZejOHssx4M",
        "outputId": "c067cd3a-d65f-400b-82f3-85aa3f05e838"
      },
      "outputs": [
        {
          "output_type": "stream",
          "name": "stdout",
          "text": [
            "Requirement already satisfied: transformers in /usr/local/lib/python3.7/dist-packages (4.15.0)\n",
            "Requirement already satisfied: pyyaml>=5.1 in /usr/local/lib/python3.7/dist-packages (from transformers) (6.0)\n",
            "Requirement already satisfied: sacremoses in /usr/local/lib/python3.7/dist-packages (from transformers) (0.0.46)\n",
            "Requirement already satisfied: packaging>=20.0 in /usr/local/lib/python3.7/dist-packages (from transformers) (21.3)\n",
            "Requirement already satisfied: regex!=2019.12.17 in /usr/local/lib/python3.7/dist-packages (from transformers) (2019.12.20)\n",
            "Requirement already satisfied: filelock in /usr/local/lib/python3.7/dist-packages (from transformers) (3.4.0)\n",
            "Requirement already satisfied: numpy>=1.17 in /usr/local/lib/python3.7/dist-packages (from transformers) (1.19.5)\n",
            "Requirement already satisfied: tokenizers<0.11,>=0.10.1 in /usr/local/lib/python3.7/dist-packages (from transformers) (0.10.3)\n",
            "Requirement already satisfied: requests in /usr/local/lib/python3.7/dist-packages (from transformers) (2.23.0)\n",
            "Requirement already satisfied: huggingface-hub<1.0,>=0.1.0 in /usr/local/lib/python3.7/dist-packages (from transformers) (0.2.1)\n",
            "Requirement already satisfied: tqdm>=4.27 in /usr/local/lib/python3.7/dist-packages (from transformers) (4.62.3)\n",
            "Requirement already satisfied: importlib-metadata in /usr/local/lib/python3.7/dist-packages (from transformers) (4.8.2)\n",
            "Requirement already satisfied: typing-extensions>=3.7.4.3 in /usr/local/lib/python3.7/dist-packages (from huggingface-hub<1.0,>=0.1.0->transformers) (3.10.0.2)\n",
            "Requirement already satisfied: pyparsing!=3.0.5,>=2.0.2 in /usr/local/lib/python3.7/dist-packages (from packaging>=20.0->transformers) (3.0.6)\n",
            "Requirement already satisfied: zipp>=0.5 in /usr/local/lib/python3.7/dist-packages (from importlib-metadata->transformers) (3.6.0)\n",
            "Requirement already satisfied: chardet<4,>=3.0.2 in /usr/local/lib/python3.7/dist-packages (from requests->transformers) (3.0.4)\n",
            "Requirement already satisfied: certifi>=2017.4.17 in /usr/local/lib/python3.7/dist-packages (from requests->transformers) (2021.10.8)\n",
            "Requirement already satisfied: idna<3,>=2.5 in /usr/local/lib/python3.7/dist-packages (from requests->transformers) (2.10)\n",
            "Requirement already satisfied: urllib3!=1.25.0,!=1.25.1,<1.26,>=1.21.1 in /usr/local/lib/python3.7/dist-packages (from requests->transformers) (1.24.3)\n",
            "Requirement already satisfied: click in /usr/local/lib/python3.7/dist-packages (from sacremoses->transformers) (7.1.2)\n",
            "Requirement already satisfied: six in /usr/local/lib/python3.7/dist-packages (from sacremoses->transformers) (1.15.0)\n",
            "Requirement already satisfied: joblib in /usr/local/lib/python3.7/dist-packages (from sacremoses->transformers) (1.1.0)\n"
          ]
        }
      ],
      "source": [
        "!pip install transformers"
      ]
    },
    {
      "cell_type": "markdown",
      "source": [
        "**Imorting Required Libraries**"
      ],
      "metadata": {
        "id": "jiIhYqgArCO-"
      }
    },
    {
      "cell_type": "code",
      "source": [
        "from transformers import AutoTokenizer, AutoModelForTokenClassification\n",
        "from transformers import pipeline"
      ],
      "metadata": {
        "id": "MiRFu3vTt63q"
      },
      "execution_count": null,
      "outputs": []
    },
    {
      "cell_type": "markdown",
      "source": [
        "**Bert-Base Model For NER**\n",
        "\n",
        "\n",
        "model =\"dslim/bert-base-NER\""
      ],
      "metadata": {
        "id": "F8P5DO3SrcNM"
      }
    },
    {
      "cell_type": "code",
      "source": [
        "\n",
        "def ner_model(model):\n",
        "  '''\n",
        "  Input: bert-model\n",
        "  Output: Transformer pipeline \n",
        "  '''\n",
        "  tokenizer = AutoTokenizer.from_pretrained(model)\n",
        "  model = AutoModelForTokenClassification.from_pretrained(model)\n",
        "  nlp = pipeline(\"ner\", model=model, tokenizer=tokenizer)\n",
        "  return nlp\n"
      ],
      "metadata": {
        "id": "5_j8_oWN1aYj"
      },
      "execution_count": null,
      "outputs": []
    },
    {
      "cell_type": "code",
      "source": [
        "def get_ner(text, ent_list,nlp):\n",
        "\n",
        "  ''' \n",
        "  Input: text i.e. text data\n",
        "         ent_list i.e list of entity \n",
        "         nlp i.e the nlp pipeline\n",
        "  Output: Required list tuple of entity and entity name\n",
        "  '''\n",
        "\n",
        "  # Store the Entity and Entity name\n",
        "  required_ents = []\n",
        "  example = text\n",
        "  ner_results = nlp(example)\n",
        "  for ent in ner_results:\n",
        "    if ent['entity'] in ent_list:\n",
        "      required_ents.append((ent['entity'],ent['word']))\n",
        "\n",
        "  return required_ents\n"
      ],
      "metadata": {
        "id": "rXfhYKdNuE9C"
      },
      "execution_count": null,
      "outputs": []
    },
    {
      "cell_type": "markdown",
      "source": [
        "**Main Function**"
      ],
      "metadata": {
        "id": "eA477roKxiyr"
      }
    },
    {
      "cell_type": "code",
      "source": [
        "def main_fun(text,ent_list,model):\n",
        "  '''\n",
        "  Input: text, list of entity, bert model \n",
        "  Output: List of tuple having Entity and Entity name\n",
        "  '''\n",
        "  nlp = ner_model(model)\n",
        "  result = get_ner(text, ent_list,nlp)\n",
        "  return result\n",
        "\n"
      ],
      "metadata": {
        "id": "Zm4ZAAqv1mKg"
      },
      "execution_count": null,
      "outputs": []
    },
    {
      "cell_type": "code",
      "source": [
        "text = '''Thomas MJ is a Psychiatrist in Jayanagar, Bangalore and has an experience of 44 years in this field. Dr. Thomas MJ practices at Sagar Hospitals in Jayanagar, Bangalore. He completed MBBS from St John's Medical College, Bangalore in 1974,M.D. (Psychiatry) from National Institute of Mental Health and Neurosciences (NIMHANS) in 1976 and DPM (Psychiatry) from National Institute of Mental Health and Neurosciences (NIMHANS) in 1979.'''\n",
        "ent_list = ['B-PER','I-PER']\n",
        "model =\"dslim/bert-base-NER\"\n",
        "print(main_fun(text,ent_list, model))"
      ],
      "metadata": {
        "colab": {
          "base_uri": "https://localhost:8080/"
        },
        "id": "UqOVfWDnLfou",
        "outputId": "09129617-c31f-4f1c-fdd8-ea2c064a6ec9"
      },
      "execution_count": null,
      "outputs": [
        {
          "output_type": "stream",
          "name": "stdout",
          "text": [
            "[('B-PER', 'Thomas'), ('I-PER', 'M'), ('B-PER', 'Thomas'), ('I-PER', 'M')]\n"
          ]
        }
      ]
    },
    {
      "cell_type": "code",
      "source": [
        ""
      ],
      "metadata": {
        "id": "Mr_K4TwZ_TFt"
      },
      "execution_count": null,
      "outputs": []
    }
  ]
}