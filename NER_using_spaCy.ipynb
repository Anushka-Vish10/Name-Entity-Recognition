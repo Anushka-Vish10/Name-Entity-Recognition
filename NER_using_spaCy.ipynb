{
  "nbformat": 4,
  "nbformat_minor": 0,
  "metadata": {
    "kernelspec": {
      "display_name": "Python 3",
      "language": "python",
      "name": "python3"
    },
    "language_info": {
      "codemirror_mode": {
        "name": "ipython",
        "version": 3
      },
      "file_extension": ".py",
      "mimetype": "text/x-python",
      "name": "python",
      "nbconvert_exporter": "python",
      "pygments_lexer": "ipython3",
      "version": "3.7.3"
    },
    "colab": {
      "name": "NER using spaCy.ipynb",
      "provenance": [],
      "collapsed_sections": []
    }
  },
  "cells": [
    {
      "cell_type": "markdown",
      "source": [
        "**Installing Required Packages**"
      ],
      "metadata": {
        "id": "HNYxkJ7JkXCt"
      }
    },
    {
      "cell_type": "code",
      "metadata": {
        "id": "O76R62A1usTy",
        "outputId": "8903dcdd-f573-4b2a-c6d9-c429c29cb0fc",
        "colab": {
          "base_uri": "https://localhost:8080/"
        }
      },
      "source": [
        "!pip install spacy\n",
        "!python -m spacy download en_core_web_sm"
      ],
      "execution_count": null,
      "outputs": [
        {
          "output_type": "stream",
          "name": "stdout",
          "text": [
            "Requirement already satisfied: spacy in /usr/local/lib/python3.7/dist-packages (2.2.4)\n",
            "Requirement already satisfied: thinc==7.4.0 in /usr/local/lib/python3.7/dist-packages (from spacy) (7.4.0)\n",
            "Requirement already satisfied: numpy>=1.15.0 in /usr/local/lib/python3.7/dist-packages (from spacy) (1.19.5)\n",
            "Requirement already satisfied: plac<1.2.0,>=0.9.6 in /usr/local/lib/python3.7/dist-packages (from spacy) (1.1.3)\n",
            "Requirement already satisfied: setuptools in /usr/local/lib/python3.7/dist-packages (from spacy) (57.4.0)\n",
            "Requirement already satisfied: blis<0.5.0,>=0.4.0 in /usr/local/lib/python3.7/dist-packages (from spacy) (0.4.1)\n",
            "Requirement already satisfied: wasabi<1.1.0,>=0.4.0 in /usr/local/lib/python3.7/dist-packages (from spacy) (0.8.2)\n",
            "Requirement already satisfied: tqdm<5.0.0,>=4.38.0 in /usr/local/lib/python3.7/dist-packages (from spacy) (4.62.3)\n",
            "Requirement already satisfied: preshed<3.1.0,>=3.0.2 in /usr/local/lib/python3.7/dist-packages (from spacy) (3.0.6)\n",
            "Requirement already satisfied: cymem<2.1.0,>=2.0.2 in /usr/local/lib/python3.7/dist-packages (from spacy) (2.0.6)\n",
            "Requirement already satisfied: catalogue<1.1.0,>=0.0.7 in /usr/local/lib/python3.7/dist-packages (from spacy) (1.0.0)\n",
            "Requirement already satisfied: murmurhash<1.1.0,>=0.28.0 in /usr/local/lib/python3.7/dist-packages (from spacy) (1.0.6)\n",
            "Requirement already satisfied: requests<3.0.0,>=2.13.0 in /usr/local/lib/python3.7/dist-packages (from spacy) (2.23.0)\n",
            "Requirement already satisfied: srsly<1.1.0,>=1.0.2 in /usr/local/lib/python3.7/dist-packages (from spacy) (1.0.5)\n",
            "Requirement already satisfied: importlib-metadata>=0.20 in /usr/local/lib/python3.7/dist-packages (from catalogue<1.1.0,>=0.0.7->spacy) (4.8.2)\n",
            "Requirement already satisfied: typing-extensions>=3.6.4 in /usr/local/lib/python3.7/dist-packages (from importlib-metadata>=0.20->catalogue<1.1.0,>=0.0.7->spacy) (3.10.0.2)\n",
            "Requirement already satisfied: zipp>=0.5 in /usr/local/lib/python3.7/dist-packages (from importlib-metadata>=0.20->catalogue<1.1.0,>=0.0.7->spacy) (3.6.0)\n",
            "Requirement already satisfied: urllib3!=1.25.0,!=1.25.1,<1.26,>=1.21.1 in /usr/local/lib/python3.7/dist-packages (from requests<3.0.0,>=2.13.0->spacy) (1.24.3)\n",
            "Requirement already satisfied: chardet<4,>=3.0.2 in /usr/local/lib/python3.7/dist-packages (from requests<3.0.0,>=2.13.0->spacy) (3.0.4)\n",
            "Requirement already satisfied: idna<3,>=2.5 in /usr/local/lib/python3.7/dist-packages (from requests<3.0.0,>=2.13.0->spacy) (2.10)\n",
            "Requirement already satisfied: certifi>=2017.4.17 in /usr/local/lib/python3.7/dist-packages (from requests<3.0.0,>=2.13.0->spacy) (2021.10.8)\n",
            "Collecting en_core_web_sm==2.2.5\n",
            "  Downloading https://github.com/explosion/spacy-models/releases/download/en_core_web_sm-2.2.5/en_core_web_sm-2.2.5.tar.gz (12.0 MB)\n",
            "\u001b[K     |████████████████████████████████| 12.0 MB 4.9 MB/s \n",
            "\u001b[?25hRequirement already satisfied: spacy>=2.2.2 in /usr/local/lib/python3.7/dist-packages (from en_core_web_sm==2.2.5) (2.2.4)\n",
            "Requirement already satisfied: srsly<1.1.0,>=1.0.2 in /usr/local/lib/python3.7/dist-packages (from spacy>=2.2.2->en_core_web_sm==2.2.5) (1.0.5)\n",
            "Requirement already satisfied: thinc==7.4.0 in /usr/local/lib/python3.7/dist-packages (from spacy>=2.2.2->en_core_web_sm==2.2.5) (7.4.0)\n",
            "Requirement already satisfied: plac<1.2.0,>=0.9.6 in /usr/local/lib/python3.7/dist-packages (from spacy>=2.2.2->en_core_web_sm==2.2.5) (1.1.3)\n",
            "Requirement already satisfied: murmurhash<1.1.0,>=0.28.0 in /usr/local/lib/python3.7/dist-packages (from spacy>=2.2.2->en_core_web_sm==2.2.5) (1.0.6)\n",
            "Requirement already satisfied: tqdm<5.0.0,>=4.38.0 in /usr/local/lib/python3.7/dist-packages (from spacy>=2.2.2->en_core_web_sm==2.2.5) (4.62.3)\n",
            "Requirement already satisfied: requests<3.0.0,>=2.13.0 in /usr/local/lib/python3.7/dist-packages (from spacy>=2.2.2->en_core_web_sm==2.2.5) (2.23.0)\n",
            "Requirement already satisfied: blis<0.5.0,>=0.4.0 in /usr/local/lib/python3.7/dist-packages (from spacy>=2.2.2->en_core_web_sm==2.2.5) (0.4.1)\n",
            "Requirement already satisfied: cymem<2.1.0,>=2.0.2 in /usr/local/lib/python3.7/dist-packages (from spacy>=2.2.2->en_core_web_sm==2.2.5) (2.0.6)\n",
            "Requirement already satisfied: setuptools in /usr/local/lib/python3.7/dist-packages (from spacy>=2.2.2->en_core_web_sm==2.2.5) (57.4.0)\n",
            "Requirement already satisfied: numpy>=1.15.0 in /usr/local/lib/python3.7/dist-packages (from spacy>=2.2.2->en_core_web_sm==2.2.5) (1.19.5)\n",
            "Requirement already satisfied: preshed<3.1.0,>=3.0.2 in /usr/local/lib/python3.7/dist-packages (from spacy>=2.2.2->en_core_web_sm==2.2.5) (3.0.6)\n",
            "Requirement already satisfied: catalogue<1.1.0,>=0.0.7 in /usr/local/lib/python3.7/dist-packages (from spacy>=2.2.2->en_core_web_sm==2.2.5) (1.0.0)\n",
            "Requirement already satisfied: wasabi<1.1.0,>=0.4.0 in /usr/local/lib/python3.7/dist-packages (from spacy>=2.2.2->en_core_web_sm==2.2.5) (0.8.2)\n",
            "Requirement already satisfied: importlib-metadata>=0.20 in /usr/local/lib/python3.7/dist-packages (from catalogue<1.1.0,>=0.0.7->spacy>=2.2.2->en_core_web_sm==2.2.5) (4.8.2)\n",
            "Requirement already satisfied: zipp>=0.5 in /usr/local/lib/python3.7/dist-packages (from importlib-metadata>=0.20->catalogue<1.1.0,>=0.0.7->spacy>=2.2.2->en_core_web_sm==2.2.5) (3.6.0)\n",
            "Requirement already satisfied: typing-extensions>=3.6.4 in /usr/local/lib/python3.7/dist-packages (from importlib-metadata>=0.20->catalogue<1.1.0,>=0.0.7->spacy>=2.2.2->en_core_web_sm==2.2.5) (3.10.0.2)\n",
            "Requirement already satisfied: chardet<4,>=3.0.2 in /usr/local/lib/python3.7/dist-packages (from requests<3.0.0,>=2.13.0->spacy>=2.2.2->en_core_web_sm==2.2.5) (3.0.4)\n",
            "Requirement already satisfied: certifi>=2017.4.17 in /usr/local/lib/python3.7/dist-packages (from requests<3.0.0,>=2.13.0->spacy>=2.2.2->en_core_web_sm==2.2.5) (2021.10.8)\n",
            "Requirement already satisfied: urllib3!=1.25.0,!=1.25.1,<1.26,>=1.21.1 in /usr/local/lib/python3.7/dist-packages (from requests<3.0.0,>=2.13.0->spacy>=2.2.2->en_core_web_sm==2.2.5) (1.24.3)\n",
            "Requirement already satisfied: idna<3,>=2.5 in /usr/local/lib/python3.7/dist-packages (from requests<3.0.0,>=2.13.0->spacy>=2.2.2->en_core_web_sm==2.2.5) (2.10)\n",
            "\u001b[38;5;2m✔ Download and installation successful\u001b[0m\n",
            "You can now load the model via spacy.load('en_core_web_sm')\n"
          ]
        }
      ]
    },
    {
      "cell_type": "markdown",
      "source": [
        "**Importing Required Libraries**"
      ],
      "metadata": {
        "id": "fYx8krZKp2eK"
      }
    },
    {
      "cell_type": "code",
      "source": [
        "import spacy"
      ],
      "metadata": {
        "id": "hI0ZqtD7lbkv"
      },
      "execution_count": null,
      "outputs": []
    },
    {
      "cell_type": "markdown",
      "source": [
        "**spaCy Model For NER**"
      ],
      "metadata": {
        "id": "A4MUsfAYowJA"
      }
    },
    {
      "cell_type": "code",
      "metadata": {
        "id": "FRlRN_L3usT-"
      },
      "source": [
        "\n",
        "def spacy_ner(text):\n",
        "\n",
        "  ''' \n",
        "  Input: Text\n",
        "  Output: Named Entities\n",
        "  '''\n",
        "  # Load English tokenizer, tagger, parser and NER\n",
        "  # To make them compact and fast, spaCy’s small pipeline packages (all packages that end in sm)\n",
        "  \n",
        "  nlp = spacy.load(\"en_core_web_sm\")   \n",
        "  text = text\n",
        "  # Store all the entities present in text along with entity name\n",
        "  required_list = []\n",
        "  # Process whole documents\n",
        "  doc = nlp(text)\n",
        "  \n",
        "\n",
        "  # Find named entities, phrases and concepts\n",
        "  for entity in doc.ents:\n",
        "      text, label = entity.text, entity.label_\n",
        "      required_list.append((text, label))\n",
        "  return required_list  \n",
        "\n",
        "      \n",
        "      "
      ],
      "execution_count": null,
      "outputs": []
    },
    {
      "cell_type": "code",
      "source": [
        "text = \"\"\"Perez Ortega has a strong background in biochemistry  enzymology  molecular  and cell biology and proven lab work experience  | Kevin was vice president of sales for richard allan scientific  a thermo fisher company where he helped grow the company into the leading anatomical pathology supplier in the u s  his background also includes extensive corporate and group purchasing contract negotiation and implementation  |  \n",
        "        Wistia net embed iframe l10y7lzwkx   uploaddate   2016 06 13   transcript    alarm clock beeping  n ni remember a day when i used to ndread traveling to conferences  n nhaving to be out the ndoor before wishing n nmy family a good morning  the ndreaded rush hour traffic  n nrushing through airports  living nin hotels  spending so much n nmoney on travel  |\n",
        "         Carlos Conejero is a senior quality management professional offering over 14 years of cumulative experience in the areas of quality systems  quality assurance  and quality control operations management.\n",
        "         Since its inception in 1998, AllCells has been a forward-thinking company with a fervent focus on providing the highest quality cells for biomedical researchers. Founded by Dr. Jay Tong, who, at that time, was a research scientist at Novartis-Systemix, AllCells was the first to provide a comprehensive portfolio of commercially available blood and bone marrow-derived primary cells including mobilized LeukoPak products to the market. This pioneering spirit led to the creation of a robust donor management system, optimized protocols for isolating human cells and the collection of human tissues in accordance with GMP standards, and a state-of-the-art quality management system.\n",
        "         For nearly 20 years, Blue Sky has been transforming the way organizations deliver virtual learning events and educational content.\n",
        "         Path-Tec has been delivering innovative specimen and client management solutions since 2005, and we understand the challenges that laboratories encounter with their pre-analytical processes. Our client support solutions include supply and kit management, inventory management, specimen and supply logistics, and client management technology.\n",
        "\n",
        "        When partnering with Path-Tec, laboratories benefit from our specimen management expertise to reduce costs, improve client service levels, and improve overall operational efficiencies. We are committed to helping your laboratory thrive in today’s changing healthcare landscape without sacrificing quality or service.\n",
        "        Based in Marseille - France, Modul-Bio has recorded consistent growth, deploying solutions for Biological Resource Centres, national cohort projects, biotechnology and cosmetics firms as well as diagnostic companies. Boasting expertise in computing and biology, the company has earned the recognition of commercial clients, academic clients and hospitals, mainly in France and Europe.\n",
        "\"\"\""
      ],
      "metadata": {
        "id": "JgB431vmeoek"
      },
      "execution_count": null,
      "outputs": []
    },
    {
      "cell_type": "code",
      "source": [
        "spacy_ner(text)"
      ],
      "metadata": {
        "colab": {
          "base_uri": "https://localhost:8080/"
        },
        "id": "wEIOtMM-m2yR",
        "outputId": "a1e081dd-b739-4a26-f370-9647b5780f42"
      },
      "execution_count": null,
      "outputs": [
        {
          "output_type": "execute_result",
          "data": {
            "text/plain": [
              "[('Perez Ortega', 'PERSON'),\n",
              " ('Kevin', 'PERSON'),\n",
              " ('richard allan scientific', 'PERSON'),\n",
              " ('the u s', 'GPE'),\n",
              " ('l10y7lzwkx', 'GPE'),\n",
              " ('2016', 'DATE'),\n",
              " ('nmy', 'PERSON'),\n",
              " ('a good morning', 'TIME'),\n",
              " ('hour', 'TIME'),\n",
              " ('Carlos Conejero', 'PERSON'),\n",
              " ('14 years', 'DATE'),\n",
              " ('1998', 'DATE'),\n",
              " ('AllCells', 'ORG'),\n",
              " ('Jay Tong', 'PERSON'),\n",
              " ('Novartis-Systemix', 'PERSON'),\n",
              " ('AllCells', 'ORG'),\n",
              " ('first', 'ORDINAL'),\n",
              " ('nearly 20 years', 'DATE'),\n",
              " ('Blue Sky', 'ORG'),\n",
              " ('Path-Tec', 'ORG'),\n",
              " ('2005', 'DATE'),\n",
              " ('Path-Tec', 'PERSON'),\n",
              " ('today', 'DATE'),\n",
              " ('Marseille', 'GPE'),\n",
              " ('France', 'GPE'),\n",
              " ('Modul-Bio', 'PERSON'),\n",
              " ('Biological Resource Centres', 'ORG'),\n",
              " ('France', 'GPE'),\n",
              " ('Europe', 'LOC')]"
            ]
          },
          "metadata": {},
          "execution_count": 24
        }
      ]
    },
    {
      "cell_type": "code",
      "source": [
        ""
      ],
      "metadata": {
        "id": "tBIOzZkGm5ha"
      },
      "execution_count": null,
      "outputs": []
    }
  ]
}